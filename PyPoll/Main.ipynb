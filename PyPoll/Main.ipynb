{
 "cells": [
  {
   "cell_type": "code",
   "execution_count": 187,
   "id": "f1b2c8ff",
   "metadata": {},
   "outputs": [
    {
     "ename": "ModuleNotFoundError",
     "evalue": "No module named 'open'",
     "output_type": "error",
     "traceback": [
      "\u001b[1;31m---------------------------------------------------------------------------\u001b[0m",
      "\u001b[1;31mModuleNotFoundError\u001b[0m                       Traceback (most recent call last)",
      "\u001b[1;32m~\\AppData\\Local\\Temp\\ipykernel_177284\\1091175314.py\u001b[0m in \u001b[0;36m<module>\u001b[1;34m\u001b[0m\n\u001b[0;32m      1\u001b[0m \u001b[1;32mimport\u001b[0m \u001b[0mpandas\u001b[0m \u001b[1;32mas\u001b[0m \u001b[0mpd\u001b[0m\u001b[1;33m\u001b[0m\u001b[1;33m\u001b[0m\u001b[0m\n\u001b[1;32m----> 2\u001b[1;33m \u001b[1;32mimport\u001b[0m \u001b[0mopen\u001b[0m\u001b[1;33m\u001b[0m\u001b[1;33m\u001b[0m\u001b[0m\n\u001b[0m",
      "\u001b[1;31mModuleNotFoundError\u001b[0m: No module named 'open'"
     ]
    }
   ],
   "source": [
    "import pandas as pd\n"
   ]
  },
  {
   "cell_type": "code",
   "execution_count": 177,
   "id": "5370b166",
   "metadata": {},
   "outputs": [],
   "source": [
    "poll = pd.read_csv (\"D:/Hunter Craig/DU/python-challenge/PyPoll/election_data.csv\")"
   ]
  },
  {
   "cell_type": "code",
   "execution_count": 178,
   "id": "cc9eebe4",
   "metadata": {},
   "outputs": [
    {
     "data": {
      "text/html": [
       "<div>\n",
       "<style scoped>\n",
       "    .dataframe tbody tr th:only-of-type {\n",
       "        vertical-align: middle;\n",
       "    }\n",
       "\n",
       "    .dataframe tbody tr th {\n",
       "        vertical-align: top;\n",
       "    }\n",
       "\n",
       "    .dataframe thead th {\n",
       "        text-align: right;\n",
       "    }\n",
       "</style>\n",
       "<table border=\"1\" class=\"dataframe\">\n",
       "  <thead>\n",
       "    <tr style=\"text-align: right;\">\n",
       "      <th></th>\n",
       "      <th>Ballot ID</th>\n",
       "      <th>County</th>\n",
       "      <th>Candidate</th>\n",
       "    </tr>\n",
       "  </thead>\n",
       "  <tbody>\n",
       "    <tr>\n",
       "      <th>0</th>\n",
       "      <td>1323913</td>\n",
       "      <td>Jefferson</td>\n",
       "      <td>Charles Casper Stockham</td>\n",
       "    </tr>\n",
       "    <tr>\n",
       "      <th>1</th>\n",
       "      <td>1005842</td>\n",
       "      <td>Jefferson</td>\n",
       "      <td>Charles Casper Stockham</td>\n",
       "    </tr>\n",
       "    <tr>\n",
       "      <th>2</th>\n",
       "      <td>1880345</td>\n",
       "      <td>Jefferson</td>\n",
       "      <td>Charles Casper Stockham</td>\n",
       "    </tr>\n",
       "    <tr>\n",
       "      <th>3</th>\n",
       "      <td>1600337</td>\n",
       "      <td>Jefferson</td>\n",
       "      <td>Charles Casper Stockham</td>\n",
       "    </tr>\n",
       "    <tr>\n",
       "      <th>4</th>\n",
       "      <td>1835994</td>\n",
       "      <td>Jefferson</td>\n",
       "      <td>Charles Casper Stockham</td>\n",
       "    </tr>\n",
       "  </tbody>\n",
       "</table>\n",
       "</div>"
      ],
      "text/plain": [
       "   Ballot ID     County                Candidate\n",
       "0    1323913  Jefferson  Charles Casper Stockham\n",
       "1    1005842  Jefferson  Charles Casper Stockham\n",
       "2    1880345  Jefferson  Charles Casper Stockham\n",
       "3    1600337  Jefferson  Charles Casper Stockham\n",
       "4    1835994  Jefferson  Charles Casper Stockham"
      ]
     },
     "execution_count": 178,
     "metadata": {},
     "output_type": "execute_result"
    }
   ],
   "source": [
    "poll.head()"
   ]
  },
  {
   "cell_type": "code",
   "execution_count": 179,
   "id": "0355539d",
   "metadata": {},
   "outputs": [
    {
     "name": "stdout",
     "output_type": "stream",
     "text": [
      "Total Votes = 369711\n"
     ]
    }
   ],
   "source": [
    "total_votes = len(budget)\n",
    "print (\"Total Votes\", \"=\", total_votes)"
   ]
  },
  {
   "cell_type": "code",
   "execution_count": 180,
   "id": "e3dae758",
   "metadata": {},
   "outputs": [
    {
     "data": {
      "text/plain": [
       "array(['Charles Casper Stockham', 'Diana DeGette', 'Raymon Anthony Doane'],\n",
       "      dtype=object)"
      ]
     },
     "execution_count": 180,
     "metadata": {},
     "output_type": "execute_result"
    }
   ],
   "source": [
    "poll[\"Candidate\"].unique()"
   ]
  },
  {
   "cell_type": "code",
   "execution_count": 181,
   "id": "f32f853f",
   "metadata": {
    "scrolled": true
   },
   "outputs": [
    {
     "data": {
      "text/plain": [
       "Diana DeGette              272892\n",
       "Charles Casper Stockham     85213\n",
       "Raymon Anthony Doane        11606\n",
       "Name: Candidate, dtype: int64"
      ]
     },
     "execution_count": 181,
     "metadata": {},
     "output_type": "execute_result"
    }
   ],
   "source": [
    "poll['Candidate'].value_counts()"
   ]
  },
  {
   "cell_type": "code",
   "execution_count": 182,
   "id": "ef34cf77",
   "metadata": {},
   "outputs": [],
   "source": [
    "charles = (poll['Candidate'].value_counts()['Charles Casper Stockham'])\n",
    "diana = (poll['Candidate'].value_counts()['Diana DeGette'])\n",
    "raymond = (poll['Candidate'].value_counts()['Raymon Anthony Doane'])\n"
   ]
  },
  {
   "cell_type": "code",
   "execution_count": 183,
   "id": "863b4ba5",
   "metadata": {},
   "outputs": [
    {
     "name": "stdout",
     "output_type": "stream",
     "text": [
      "272892\n",
      "85213\n",
      "11606\n"
     ]
    }
   ],
   "source": [
    "print(diana)\n",
    "print(charles)\n",
    "print(raymond)"
   ]
  },
  {
   "cell_type": "code",
   "execution_count": 184,
   "id": "3431a99a",
   "metadata": {},
   "outputs": [
    {
     "name": "stdout",
     "output_type": "stream",
     "text": [
      "74%\n",
      "23%\n",
      "3%\n"
     ]
    }
   ],
   "source": [
    "diana_p = (diana/total_votes)\n",
    "dp = f\"{diana_p:.0%}\"\n",
    "charles_p = (charles/total_votes)\n",
    "cp = f\"{charles_p:.0%}\"\n",
    "raymond_p = (raymond/total_votes)\n",
    "rp = f\"{raymond_p:.0%}\"\n",
    "print(dp)\n",
    "print(cp)\n",
    "print(rp)"
   ]
  },
  {
   "cell_type": "code",
   "execution_count": 191,
   "id": "3ab87eb5",
   "metadata": {},
   "outputs": [],
   "source": [
    "%%capture cap --no-stderr\n",
    "\n",
    "print(\"Election Results\")\n",
    "print(\"-------------------------\")\n",
    "print(\"Total Votes:\", total_votes)\n",
    "print(\"Charles Casper Stockham:\", cp, (charles))\n",
    "print('Diana Deggete:', dp, (diana))\n",
    "print('Raymond Anthony Doane:', rp, (raymond))\n",
    "print('-------------------------')\n",
    "print(\"Winner: Diana Degette\")\n",
    "print('-------------------------')\n"
   ]
  },
  {
   "cell_type": "code",
   "execution_count": 192,
   "id": "6984a6b5",
   "metadata": {},
   "outputs": [
    {
     "name": "stdout",
     "output_type": "stream",
     "text": [
      "Election Results\n",
      "-------------------------\n",
      "Total Votes: 369711\n",
      "Charles Casper Stockham: 23% 85213\n",
      "Diana Deggete: 74% 272892\n",
      "Raymond Anthony Doane: 3% 11606\n",
      "-------------------------\n",
      "Winner: Diana Degette\n",
      "-------------------------\n"
     ]
    }
   ],
   "source": [
    "print(\"Election Results\")\n",
    "print(\"-------------------------\")\n",
    "print(\"Total Votes:\", total_votes)\n",
    "print(\"Charles Casper Stockham:\", cp, (charles))\n",
    "print('Diana Deggete:', dp, (diana))\n",
    "print('Raymond Anthony Doane:', rp, (raymond))\n",
    "print('-------------------------')\n",
    "print(\"Winner: Diana Degette\")\n",
    "print('-------------------------')\n"
   ]
  },
  {
   "cell_type": "code",
   "execution_count": 193,
   "id": "61ab7267",
   "metadata": {},
   "outputs": [],
   "source": [
    "with open('election.txt', 'w') as f:\n",
    "    f.write(cap.stdout)"
   ]
  },
  {
   "cell_type": "code",
   "execution_count": null,
   "id": "7acc8afc",
   "metadata": {},
   "outputs": [],
   "source": []
  }
 ],
 "metadata": {
  "kernelspec": {
   "display_name": "Python 3 (ipykernel)",
   "language": "python",
   "name": "python3"
  },
  "language_info": {
   "codemirror_mode": {
    "name": "ipython",
    "version": 3
   },
   "file_extension": ".py",
   "mimetype": "text/x-python",
   "name": "python",
   "nbconvert_exporter": "python",
   "pygments_lexer": "ipython3",
   "version": "3.9.13"
  }
 },
 "nbformat": 4,
 "nbformat_minor": 5
}
