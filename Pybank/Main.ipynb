{
 "cells": [
  {
   "cell_type": "code",
   "execution_count": 2,
   "id": "aaffd4c3",
   "metadata": {},
   "outputs": [],
   "source": [
    "import pandas as pd\n",
    "import locale"
   ]
  },
  {
   "cell_type": "code",
   "execution_count": 3,
   "id": "3738ea5a",
   "metadata": {},
   "outputs": [],
   "source": [
    "budget = pd.read_csv (\"D:/Hunter Craig/DU/python-challenge/Pybank/budget_data.csv\")"
   ]
  },
  {
   "cell_type": "code",
   "execution_count": 4,
   "id": "64624ee9",
   "metadata": {},
   "outputs": [
    {
     "data": {
      "text/html": [
       "<div>\n",
       "<style scoped>\n",
       "    .dataframe tbody tr th:only-of-type {\n",
       "        vertical-align: middle;\n",
       "    }\n",
       "\n",
       "    .dataframe tbody tr th {\n",
       "        vertical-align: top;\n",
       "    }\n",
       "\n",
       "    .dataframe thead th {\n",
       "        text-align: right;\n",
       "    }\n",
       "</style>\n",
       "<table border=\"1\" class=\"dataframe\">\n",
       "  <thead>\n",
       "    <tr style=\"text-align: right;\">\n",
       "      <th></th>\n",
       "      <th>Date</th>\n",
       "      <th>Profit/Losses</th>\n",
       "    </tr>\n",
       "  </thead>\n",
       "  <tbody>\n",
       "    <tr>\n",
       "      <th>0</th>\n",
       "      <td>Jan-10</td>\n",
       "      <td>1088983</td>\n",
       "    </tr>\n",
       "    <tr>\n",
       "      <th>1</th>\n",
       "      <td>Feb-10</td>\n",
       "      <td>-354534</td>\n",
       "    </tr>\n",
       "    <tr>\n",
       "      <th>2</th>\n",
       "      <td>Mar-10</td>\n",
       "      <td>276622</td>\n",
       "    </tr>\n",
       "    <tr>\n",
       "      <th>3</th>\n",
       "      <td>Apr-10</td>\n",
       "      <td>-728133</td>\n",
       "    </tr>\n",
       "    <tr>\n",
       "      <th>4</th>\n",
       "      <td>May-10</td>\n",
       "      <td>852993</td>\n",
       "    </tr>\n",
       "  </tbody>\n",
       "</table>\n",
       "</div>"
      ],
      "text/plain": [
       "     Date  Profit/Losses\n",
       "0  Jan-10        1088983\n",
       "1  Feb-10        -354534\n",
       "2  Mar-10         276622\n",
       "3  Apr-10        -728133\n",
       "4  May-10         852993"
      ]
     },
     "execution_count": 4,
     "metadata": {},
     "output_type": "execute_result"
    }
   ],
   "source": [
    "budget.head()"
   ]
  },
  {
   "cell_type": "code",
   "execution_count": 5,
   "id": "0c788955",
   "metadata": {},
   "outputs": [
    {
     "name": "stdout",
     "output_type": "stream",
     "text": [
      "Total Months = 86\n"
     ]
    }
   ],
   "source": [
    "Total_Months = len(budget)\n",
    "print (\"Total Months\", \"=\", Total_Months)\n"
   ]
  },
  {
   "cell_type": "code",
   "execution_count": 6,
   "id": "b8f6b30e",
   "metadata": {},
   "outputs": [
    {
     "name": "stdout",
     "output_type": "stream",
     "text": [
      "22564198\n"
     ]
    }
   ],
   "source": [
    "Total= 0\n",
    "for i in range(len(budget)):\n",
    "    Total = (budget['Profit/Losses'][i])+ Total\n",
    "print(Total)\n"
   ]
  },
  {
   "cell_type": "code",
   "execution_count": 7,
   "id": "a961bfa9",
   "metadata": {},
   "outputs": [
    {
     "data": {
      "text/plain": [
       "-8311.11"
      ]
     },
     "execution_count": 7,
     "metadata": {},
     "output_type": "execute_result"
    }
   ],
   "source": [
    "df= budget\n",
    "df['shift'] = df['Profit/Losses'].shift(1)\n",
    "df['diff'] = df['Profit/Losses'] - df['shift']\n",
    "round(df['diff'].mean(), 2)"
   ]
  },
  {
   "cell_type": "code",
   "execution_count": 8,
   "id": "32d69159",
   "metadata": {},
   "outputs": [
    {
     "name": "stdout",
     "output_type": "stream",
     "text": [
      "Aug-16 $ 1862002\n"
     ]
    }
   ],
   "source": [
    "big_diff = 0\n",
    "month = 0\n",
    "for i in range(len(budget)):\n",
    "    if big_diff < (budget['diff'][i]):\n",
    "        big_diff = (budget['diff'][i])\n",
    "        month = budget['Date'][i]\n",
    "print(month, '$',(int(big_diff)))"
   ]
  },
  {
   "cell_type": "code",
   "execution_count": 9,
   "id": "dd76aea3",
   "metadata": {},
   "outputs": [
    {
     "name": "stdout",
     "output_type": "stream",
     "text": [
      "Feb-14 $ -1825558\n"
     ]
    }
   ],
   "source": [
    "lil_diff = 0\n",
    "lil_month = 0\n",
    "for i in range(len(budget)):\n",
    "    if lil_diff > (budget['diff'][i]):\n",
    "        lil_diff = (budget['diff'][i])\n",
    "        lil_month = budget['Date'][i]\n",
    "print(lil_month, '$',(int(lil_diff)))"
   ]
  },
  {
   "cell_type": "code",
   "execution_count": 47,
   "id": "a3777cad",
   "metadata": {},
   "outputs": [],
   "source": [
    "%%capture cap --no-stderr\n",
    "\n",
    "\n",
    "print(\"Financial Analysis\")\n",
    "print('---------------------')\n",
    "print(\"Total Months:\", Total_Months)\n",
    "print(\"Total: $\", Total)\n",
    "print(\"Average Change: $\",(round(df['diff'].mean(), 2)))\n",
    "print(\"Greatest Increase in Profits: \",month, '    $',(int(big_diff)))\n",
    "print('Greatest Decrease in Profits: ',lil_month, '    $',(int(lil_diff)))             \n"
   ]
  },
  {
   "cell_type": "code",
   "execution_count": 49,
   "id": "d59dc33e",
   "metadata": {},
   "outputs": [
    {
     "name": "stdout",
     "output_type": "stream",
     "text": [
      "Financial Analysis\n",
      "---------------------\n",
      "Total Months: 86\n",
      "Total: $ 22564198\n",
      "Average Change: $ -8311.11\n",
      "Greatest Increase in Profits:  Aug-16     $ 1862002\n",
      "Greatest Decrease in Profits:  Feb-14     $ -1825558\n"
     ]
    }
   ],
   "source": [
    "print(\"Financial Analysis\")\n",
    "print('---------------------')\n",
    "print(\"Total Months:\", Total_Months)\n",
    "print(\"Total: $\", Total)\n",
    "print(\"Average Change: $\",(round(df['diff'].mean(), 2)))\n",
    "print(\"Greatest Increase in Profits: \",month, '    $',(int(big_diff)))\n",
    "print('Greatest Decrease in Profits: ',lil_month, '    $',(int(lil_diff)))             \n"
   ]
  },
  {
   "cell_type": "code",
   "execution_count": 50,
   "id": "51d2c70c",
   "metadata": {},
   "outputs": [],
   "source": [
    "with open('budget.txt', 'w') as f:\n",
    "    f.write(cap.stdout)"
   ]
  },
  {
   "cell_type": "code",
   "execution_count": null,
   "id": "b250a83e",
   "metadata": {},
   "outputs": [],
   "source": []
  }
 ],
 "metadata": {
  "kernelspec": {
   "display_name": "Python 3 (ipykernel)",
   "language": "python",
   "name": "python3"
  },
  "language_info": {
   "codemirror_mode": {
    "name": "ipython",
    "version": 3
   },
   "file_extension": ".py",
   "mimetype": "text/x-python",
   "name": "python",
   "nbconvert_exporter": "python",
   "pygments_lexer": "ipython3",
   "version": "3.9.13"
  }
 },
 "nbformat": 4,
 "nbformat_minor": 5
}
